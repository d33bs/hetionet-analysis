{
 "cells": [
  {
   "cell_type": "markdown",
   "id": "5fc183d5-7a0d-4a1a-b0b5-c87a5f54214b",
   "metadata": {},
   "source": [
    "# Biological Process and Gene Metapath Data Gathering - Subset - Metapath BPpGdAdG\n",
    "\n",
    "This notebook focuses on gathering **a subset** of data related\n",
    "to the following requirements and **focusing on metapath BPpGdAdG**:\n",
    "\n",
    "- Each value from `BP.csv` is a source and each value\n",
    "from `Gene.csv` is a target.\n",
    "- Each source + target pairing may have a metapath which\n",
    "is found within `metapaths.csv`.\n",
    "- For each pair metapath we need the DWPC and p-value\n",
    "stored in a table for reference.\n",
    "- Ignore metapaths found within\n",
    "`metapaths_ignore.csv`."
   ]
  },
  {
   "cell_type": "code",
   "execution_count": 1,
   "id": "cb23bdc3-241a-47e0-8016-0533730762b6",
   "metadata": {},
   "outputs": [],
   "source": [
    "import pathlib\n",
    "from functools import partial\n",
    "\n",
    "import lancedb\n",
    "import pandas as pd\n",
    "import pyarrow as pa\n",
    "from joblib import Parallel, delayed\n",
    "from pyarrow import csv\n",
    "\n",
    "from hetionet_utils.combination import (\n",
    "    generate_combinations_for_bioprocs_genes_and_metapaths,\n",
    "    process_in_chunks_for_bioprocs_genes_and_metapaths,\n",
    ")\n",
    "from hetionet_utils.database import HetionetNeo4j"
   ]
  },
  {
   "cell_type": "code",
   "execution_count": 2,
   "id": "22142383-8ae8-4c3a-b5ac-17c9f2dfc409",
   "metadata": {},
   "outputs": [
    {
     "data": {
      "text/html": [
       "<div>\n",
       "<style scoped>\n",
       "    .dataframe tbody tr th:only-of-type {\n",
       "        vertical-align: middle;\n",
       "    }\n",
       "\n",
       "    .dataframe tbody tr th {\n",
       "        vertical-align: top;\n",
       "    }\n",
       "\n",
       "    .dataframe thead th {\n",
       "        text-align: right;\n",
       "    }\n",
       "</style>\n",
       "<table border=\"1\" class=\"dataframe\">\n",
       "  <thead>\n",
       "    <tr style=\"text-align: right;\">\n",
       "      <th></th>\n",
       "      <th>metapath</th>\n",
       "    </tr>\n",
       "  </thead>\n",
       "  <tbody>\n",
       "    <tr>\n",
       "      <th>5</th>\n",
       "      <td>BPpGdAdG</td>\n",
       "    </tr>\n",
       "  </tbody>\n",
       "</table>\n",
       "</div>"
      ],
      "text/plain": [
       "   metapath\n",
       "5  BPpGdAdG"
      ]
     },
     "execution_count": 2,
     "metadata": {},
     "output_type": "execute_result"
    }
   ],
   "source": [
    "# gather metapaths which are not in the metapaths_ignore.csv\n",
    "df_metapaths = pd.read_csv(\"data/sources/metapaths.csv\")\n",
    "df_metapaths_ignore = pd.read_csv(\"data/sources/metapaths_ignore.csv\")\n",
    "df_metapaths = df_metapaths[\n",
    "    ~df_metapaths[\"metapath\"].isin(df_metapaths_ignore[\"metapath\"])\n",
    "]\n",
    "# filter to a single metapath (instead of all)\n",
    "df_metapaths = df_metapaths[df_metapaths[\"metapath\"] == \"BPpGdAdG\"]\n",
    "df_metapaths.head()"
   ]
  },
  {
   "cell_type": "code",
   "execution_count": 3,
   "id": "1b75acd4-2bb3-4adf-a851-d758e75b22b6",
   "metadata": {},
   "outputs": [
    {
     "name": "stdout",
     "output_type": "stream",
     "text": [
      "Expected number of queries:  238375045\n"
     ]
    }
   ],
   "source": [
    "# Load input CSV files into Arrow Tables\n",
    "table_bioprocesses = csv.read_csv(\"data/sources/BP.csv\").select([\"id\"])\n",
    "table_genes = csv.read_csv(\"data/sources/Gene.csv\").select([\"id\"])\n",
    "table_metapaths = pa.Table.from_pandas(df_metapaths)\n",
    "\n",
    "print(\n",
    "    \"Expected number of queries: \",\n",
    "    (\n",
    "        expected_queries := table_bioprocesses.num_rows\n",
    "        * table_genes.num_rows\n",
    "        * table_metapaths.num_rows\n",
    "    ),\n",
    ")"
   ]
  },
  {
   "cell_type": "code",
   "execution_count": 4,
   "id": "258960f1-1ea7-4365-b948-af69c6425d37",
   "metadata": {},
   "outputs": [
    {
     "data": {
      "text/html": [
       "<div>\n",
       "<style scoped>\n",
       "    .dataframe tbody tr th:only-of-type {\n",
       "        vertical-align: middle;\n",
       "    }\n",
       "\n",
       "    .dataframe tbody tr th {\n",
       "        vertical-align: top;\n",
       "    }\n",
       "\n",
       "    .dataframe thead th {\n",
       "        text-align: right;\n",
       "    }\n",
       "</style>\n",
       "<table border=\"1\" class=\"dataframe\">\n",
       "  <thead>\n",
       "    <tr style=\"text-align: right;\">\n",
       "      <th></th>\n",
       "      <th>source_id</th>\n",
       "      <th>target_id</th>\n",
       "      <th>PDP</th>\n",
       "      <th>DWPC</th>\n",
       "    </tr>\n",
       "  </thead>\n",
       "  <tbody>\n",
       "    <tr>\n",
       "      <th>0</th>\n",
       "      <td>GO:0000002</td>\n",
       "      <td>1</td>\n",
       "      <td>0.000004</td>\n",
       "      <td>NaN</td>\n",
       "    </tr>\n",
       "    <tr>\n",
       "      <th>1</th>\n",
       "      <td>GO:0000002</td>\n",
       "      <td>1</td>\n",
       "      <td>0.000004</td>\n",
       "      <td>0.000025</td>\n",
       "    </tr>\n",
       "    <tr>\n",
       "      <th>2</th>\n",
       "      <td>GO:0000002</td>\n",
       "      <td>1</td>\n",
       "      <td>0.000002</td>\n",
       "      <td>0.000025</td>\n",
       "    </tr>\n",
       "    <tr>\n",
       "      <th>3</th>\n",
       "      <td>GO:0000002</td>\n",
       "      <td>1</td>\n",
       "      <td>0.000002</td>\n",
       "      <td>0.000025</td>\n",
       "    </tr>\n",
       "    <tr>\n",
       "      <th>4</th>\n",
       "      <td>GO:0000002</td>\n",
       "      <td>1</td>\n",
       "      <td>0.000002</td>\n",
       "      <td>0.000025</td>\n",
       "    </tr>\n",
       "    <tr>\n",
       "      <th>5</th>\n",
       "      <td>GO:0000002</td>\n",
       "      <td>1</td>\n",
       "      <td>0.000002</td>\n",
       "      <td>0.000025</td>\n",
       "    </tr>\n",
       "    <tr>\n",
       "      <th>6</th>\n",
       "      <td>GO:0000002</td>\n",
       "      <td>1</td>\n",
       "      <td>0.000002</td>\n",
       "      <td>0.000025</td>\n",
       "    </tr>\n",
       "    <tr>\n",
       "      <th>7</th>\n",
       "      <td>GO:0000002</td>\n",
       "      <td>1</td>\n",
       "      <td>0.000002</td>\n",
       "      <td>0.000025</td>\n",
       "    </tr>\n",
       "    <tr>\n",
       "      <th>8</th>\n",
       "      <td>GO:0000002</td>\n",
       "      <td>1</td>\n",
       "      <td>0.000001</td>\n",
       "      <td>0.000025</td>\n",
       "    </tr>\n",
       "    <tr>\n",
       "      <th>9</th>\n",
       "      <td>GO:0000002</td>\n",
       "      <td>1</td>\n",
       "      <td>0.000001</td>\n",
       "      <td>0.000025</td>\n",
       "    </tr>\n",
       "    <tr>\n",
       "      <th>10</th>\n",
       "      <td>GO:0000002</td>\n",
       "      <td>1</td>\n",
       "      <td>0.000001</td>\n",
       "      <td>0.000025</td>\n",
       "    </tr>\n",
       "    <tr>\n",
       "      <th>11</th>\n",
       "      <td>GO:0000002</td>\n",
       "      <td>1</td>\n",
       "      <td>0.000001</td>\n",
       "      <td>0.000025</td>\n",
       "    </tr>\n",
       "  </tbody>\n",
       "</table>\n",
       "</div>"
      ],
      "text/plain": [
       "     source_id  target_id       PDP      DWPC\n",
       "0   GO:0000002          1  0.000004       NaN\n",
       "1   GO:0000002          1  0.000004  0.000025\n",
       "2   GO:0000002          1  0.000002  0.000025\n",
       "3   GO:0000002          1  0.000002  0.000025\n",
       "4   GO:0000002          1  0.000002  0.000025\n",
       "5   GO:0000002          1  0.000002  0.000025\n",
       "6   GO:0000002          1  0.000002  0.000025\n",
       "7   GO:0000002          1  0.000002  0.000025\n",
       "8   GO:0000002          1  0.000001  0.000025\n",
       "9   GO:0000002          1  0.000001  0.000025\n",
       "10  GO:0000002          1  0.000001  0.000025\n",
       "11  GO:0000002          1  0.000001  0.000025"
      ]
     },
     "execution_count": 4,
     "metadata": {},
     "output_type": "execute_result"
    }
   ],
   "source": [
    "# build a sample result from HetionetNeo4j\n",
    "hetiocli = HetionetNeo4j()\n",
    "sample_result = hetiocli.get_metapath_data(\n",
    "    source_id=str(table_bioprocesses[0][0]),\n",
    "    target_id=int(str(table_genes[0][0])),\n",
    "    metapath=str(table_metapaths[0][0]),\n",
    "    columns=[\"source_id\", \"target_id\", \"PDP\", \"DWPC\"],\n",
    ")\n",
    "sample_result"
   ]
  },
  {
   "cell_type": "code",
   "execution_count": 5,
   "id": "8661d1f3-03e9-42b6-b14b-d09b48e8a4ec",
   "metadata": {},
   "outputs": [
    {
     "name": "stdout",
     "output_type": "stream",
     "text": [
      "Expected storage:  734.8334406968206 GB\n"
     ]
    }
   ],
   "source": [
    "# export to file and measure the size\n",
    "sample_result.to_parquet((filepath := \"example_output.parquet\"))\n",
    "print(\n",
    "    \"Expected storage: \",\n",
    "    (  # bytes\n",
    "        pathlib.Path(filepath).stat().st_size\n",
    "        /\n",
    "        # kilobytes\n",
    "        1024\n",
    "        /\n",
    "        # megabytes\n",
    "        1024\n",
    "        /\n",
    "        # gigabytes\n",
    "        1024\n",
    "    )\n",
    "    * expected_queries,\n",
    "    \"GB\",\n",
    ")\n",
    "# remove the example file\n",
    "pathlib.Path(filepath).unlink()"
   ]
  },
  {
   "cell_type": "code",
   "execution_count": 6,
   "id": "61dc2f7e-c6d0-4f4a-87e7-f9a5d8309f89",
   "metadata": {},
   "outputs": [],
   "source": [
    "# create results folder\n",
    "pathlib.Path(\"data/results\").mkdir(exist_ok=True)\n",
    "\n",
    "# Initialize your LanceDB database and table\n",
    "db = lancedb.connect(\"data/results/bioprocess_and_gene_metapaths\")\n",
    "table_name = \"bioprocess_gene_metapath_scores\"\n",
    "\n",
    "# create table, overwriting previous results\n",
    "db.create_table(\n",
    "    table_name,\n",
    "    schema=pa.Table.from_pandas(sample_result).schema,\n",
    "    mode=\"overwrite\",\n",
    ")\n",
    "\n",
    "table = db.open_table(table_name)"
   ]
  },
  {
   "cell_type": "code",
   "execution_count": 7,
   "id": "ea0c56c1-ef9c-487b-80ae-296a55b2682a",
   "metadata": {},
   "outputs": [
    {
     "name": "stdout",
     "output_type": "stream",
     "text": [
      "Processing chunk 1\n"
     ]
    }
   ],
   "source": [
    "# Generate combinations\n",
    "generator = generate_combinations_for_bioprocs_genes_and_metapaths(\n",
    "    table_bioprocesses, table_genes, table_metapaths\n",
    ")\n",
    "# set a class method reference for use with the requests\n",
    "get_metapath_data_with_pdp_and_dwpc = partial(\n",
    "    hetiocli.get_metapath_data, columns=[\"source_id\", \"target_id\", \"PDP\", \"DWPC\"]\n",
    ")\n",
    "\n",
    "# create a counter for gathering data and running iterations\n",
    "count = 1\n",
    "\n",
    "# Process and print chunks\n",
    "for chunk_table in process_in_chunks_for_bioprocs_genes_and_metapaths(\n",
    "    generator, chunk_size=3\n",
    "):\n",
    "    # add the chunk to the table\n",
    "    print(f\"Processing chunk {count}\")\n",
    "\n",
    "    # process threaded results\n",
    "    results = Parallel(n_jobs=3, backend=\"threading\")(\n",
    "        delayed(get_metapath_data_with_pdp_and_dwpc)(source_id, target_id, metapath)\n",
    "        for source_id, target_id, metapath in zip(\n",
    "            chunk_table[\"source_id\"].to_pylist(),\n",
    "            chunk_table[\"target_id\"].to_pylist(),\n",
    "            chunk_table[\"metapath\"].to_pylist(),\n",
    "        )\n",
    "    )\n",
    "\n",
    "    # add a concatted dataframe of the results to the lancedb table\n",
    "    table.add(pd.concat(results))\n",
    "\n",
    "    # increment the counter\n",
    "    count += 1\n",
    "\n",
    "    # temporary break for feedback / testing\n",
    "    break"
   ]
  },
  {
   "cell_type": "code",
   "execution_count": 8,
   "id": "828431ff-398c-4c23-9fa7-f65a3925597e",
   "metadata": {},
   "outputs": [
    {
     "name": "stdout",
     "output_type": "stream",
     "text": [
      "Table shape: (92, 4)\n"
     ]
    }
   ],
   "source": [
    "# After inserting all chunks, show the shape of the table\n",
    "num_rows = table.count_rows()\n",
    "num_columns = len(table.schema.names)\n",
    "\n",
    "print(f\"Table shape: ({num_rows}, {num_columns})\")"
   ]
  }
 ],
 "metadata": {
  "kernelspec": {
   "display_name": "Python 3 (ipykernel)",
   "language": "python",
   "name": "python3"
  },
  "language_info": {
   "codemirror_mode": {
    "name": "ipython",
    "version": 3
   },
   "file_extension": ".py",
   "mimetype": "text/x-python",
   "name": "python",
   "nbconvert_exporter": "python",
   "pygments_lexer": "ipython3",
   "version": "3.12.5"
  }
 },
 "nbformat": 4,
 "nbformat_minor": 5
}
